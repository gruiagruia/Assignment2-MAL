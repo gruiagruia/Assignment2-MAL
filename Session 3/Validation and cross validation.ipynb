{
 "cells": [
  {
   "cell_type": "markdown",
   "metadata": {},
   "source": [
    "# Hyperparameter tuning"
   ]
  },
  {
   "cell_type": "markdown",
   "metadata": {},
   "source": [
    "In this notebook we train a k nearest neighbors classificer on the (real) dataset for breast tumour instances. We show how the hyperparameters can be tuned using each of the methodologies we have discussed."
   ]
  },
  {
   "cell_type": "code",
   "execution_count": 8,
   "metadata": {},
   "outputs": [],
   "source": [
    "import mglearn\n",
    "%matplotlib inline\n",
    "import numpy as np\n",
    "import matplotlib.pyplot as plt\n",
    "import pandas as pd\n",
    "from IPython.display import display\n",
    "from sklearn.model_selection import train_test_split\n",
    "from sklearn.model_selection import cross_val_score\n",
    "import scipy as scipy\n",
    "import seaborn as sns"
   ]
  },
  {
   "cell_type": "markdown",
   "metadata": {},
   "source": [
    "Here we load and investigate the data:"
   ]
  },
  {
   "cell_type": "code",
   "execution_count": 9,
   "metadata": {},
   "outputs": [
    {
     "name": "stdout",
     "output_type": "stream",
     "text": [
      "dict_keys(['data', 'target', 'frame', 'target_names', 'DESCR', 'feature_names', 'filename', 'data_module'])\n",
      ".. _breast_cancer_dataset:\n",
      "\n",
      "Breast cancer wisconsin (diagnostic) dataset\n",
      "--------------------------------------------\n",
      "\n",
      "**Data Set Characteristics:**\n",
      "\n",
      "    :Number of Instances: 569\n",
      "\n",
      "    :Number of Attributes: 30 numeric, predictive attributes and the class\n",
      "\n",
      "    :Attribute Information:\n",
      "        - radius (mean of distances from center to points on the perimeter)\n",
      "        - texture (standard deviation of gray-scale values)\n",
      "        - perimeter\n",
      "        - area\n",
      "        - smoothness (local variation in radius lengths)\n",
      "        - compactness (perimeter^2 / area - 1.0)\n",
      "        - concavity (severity of concave portions of the contour)\n",
      "        - concave points (number of concave portions of the contour)\n",
      "        - symmetry\n",
      "        - fractal dimension (\"coastline approximation\" - 1)\n",
      "\n",
      "        The mean, standard error, and \"worst\" or largest (mean of the three\n",
      "        worst/largest values) of these features were computed for each image,\n",
      "        resulting in 30 features.  For instance, field 0 is Mean Radius, field\n",
      "        10 is Radius SE, field 20 is Worst Radius.\n",
      "\n",
      "        - class:\n",
      "                - WDBC-Malignant\n",
      "                - WDBC-Benign\n",
      "\n",
      "    :Summary Statistics:\n",
      "\n",
      "    ===================================== ====== ======\n",
      "                                           Min    Max\n",
      "    ===================================== ====== ======\n",
      "    radius (mean):                        6.981  28.11\n",
      "    texture (mean):                       9.71   39.28\n",
      "    perimeter (mean):                     43.79  188.5\n",
      "    area (mean):                          143.5  2501.0\n",
      "    smoothness (mean):                    0.053  0.163\n",
      "    compactness (mean):                   0.019  0.345\n",
      "    concavity (mean):                     0.0    0.427\n",
      "    concave points (mean):                0.0    0.201\n",
      "    symmetry (mean):                      0.106  0.304\n",
      "    fractal dimension (mean):             0.05   0.097\n",
      "    radius (standard error):              0.112  2.873\n",
      "    texture (standard error):             0.36   4.885\n",
      "    perimeter (standard error):           0.757  21.98\n",
      "    area (standard error):                6.802  542.2\n",
      "    smoothness (standard error):          0.002  0.031\n",
      "    compactness (standard error):         0.002  0.135\n",
      "    concavity (standard error):           0.0    0.396\n",
      "    concave points (standard error):      0.0    0.053\n",
      "    symmetry (standard error):            0.008  0.079\n",
      "    fractal dimension (standard error):   0.001  0.03\n",
      "    radius (worst):                       7.93   36.04\n",
      "    texture (worst):                      12.02  49.54\n",
      "    perimeter (worst):                    50.41  251.2\n",
      "    area (worst):                         185.2  4254.0\n",
      "    smoothness (worst):                   0.071  0.223\n",
      "    compactness (worst):                  0.027  1.058\n",
      "    concavity (worst):                    0.0    1.252\n",
      "    concave points (worst):               0.0    0.291\n",
      "    symmetry (worst):                     0.156  0.664\n",
      "    fractal dimension (worst):            0.055  0.208\n",
      "    ===================================== ====== ======\n",
      "\n",
      "    :Missing Attribute Values: None\n",
      "\n",
      "    :Class Distribution: 212 - Malignant, 357 - Benign\n",
      "\n",
      "    :Creator:  Dr. William H. Wolberg, W. Nick Street, Olvi L. Mangasarian\n",
      "\n",
      "    :Donor: Nick Street\n",
      "\n",
      "    :Date: November, 1995\n",
      "\n",
      "This is a copy of UCI ML Breast Cancer Wisconsin (Diagnostic) datasets.\n",
      "https://goo.gl/U2Uwz2\n",
      "\n",
      "Features are computed from a digitized image of a fine needle\n",
      "aspirate (FNA) of a breast mass.  They describe\n",
      "characteristics of the cell nuclei present in the image.\n",
      "\n",
      "Separating plane described above was obtained using\n",
      "Multisurface Method-Tree (MSM-T) [K. P. Bennett, \"Decision Tree\n",
      "Construction Via Linear Programming.\" Proceedings of the 4th\n",
      "Midwest Artificial Intelligence and Cognitive Science Society,\n",
      "pp. 97-101, 1992], a classification method which uses linear\n",
      "programming to construct a decision tree.  Relevant features\n",
      "were selected using an exhaustive search in the space of 1-4\n",
      "features and 1-3 separating planes.\n",
      "\n",
      "The actual linear program used to obtain the separating plane\n",
      "in the 3-dimensional space is that described in:\n",
      "[K. P. Bennett and O. L. Mangasarian: \"Robust Linear\n",
      "Programming Discrimination of Two Linearly Inseparable Sets\",\n",
      "Optimization Methods and Software 1, 1992, 23-34].\n",
      "\n",
      "This database is also available through the UW CS ftp server:\n",
      "\n",
      "ftp ftp.cs.wisc.edu\n",
      "cd math-prog/cpo-dataset/machine-learn/WDBC/\n",
      "\n",
      ".. topic:: References\n",
      "\n",
      "   - W.N. Street, W.H. Wolberg and O.L. Mangasarian. Nuclear feature extraction \n",
      "     for breast tumor diagnosis. IS&T/SPIE 1993 International Symposium on \n",
      "     Electronic Imaging: Science and Technology, volume 1905, pages 861-870,\n",
      "     San Jose, CA, 1993.\n",
      "   - O.L. Mangasarian, W.N. Street and W.H. Wolberg. Breast cancer diagnosis and \n",
      "     prognosis via linear programming. Operations Research, 43(4), pages 570-577, \n",
      "     July-August 1995.\n",
      "   - W.H. Wolberg, W.N. Street, and O.L. Mangasarian. Machine learning techniques\n",
      "     to diagnose breast cancer from fine-needle aspirates. Cancer Letters 77 (1994) \n",
      "     163-171.\n"
     ]
    },
    {
     "data": {
      "text/plain": [
       "array([[2.057e+01, 1.777e+01, 1.329e+02, 1.326e+03, 8.474e-02, 7.864e-02,\n",
       "        8.690e-02, 7.017e-02, 1.812e-01, 5.667e-02, 5.435e-01, 7.339e-01,\n",
       "        3.398e+00, 7.408e+01, 5.225e-03, 1.308e-02, 1.860e-02, 1.340e-02,\n",
       "        1.389e-02, 3.532e-03, 2.499e+01, 2.341e+01, 1.588e+02, 1.956e+03,\n",
       "        1.238e-01, 1.866e-01, 2.416e-01, 1.860e-01, 2.750e-01, 8.902e-02],\n",
       "       [1.969e+01, 2.125e+01, 1.300e+02, 1.203e+03, 1.096e-01, 1.599e-01,\n",
       "        1.974e-01, 1.279e-01, 2.069e-01, 5.999e-02, 7.456e-01, 7.869e-01,\n",
       "        4.585e+00, 9.403e+01, 6.150e-03, 4.006e-02, 3.832e-02, 2.058e-02,\n",
       "        2.250e-02, 4.571e-03, 2.357e+01, 2.553e+01, 1.525e+02, 1.709e+03,\n",
       "        1.444e-01, 4.245e-01, 4.504e-01, 2.430e-01, 3.613e-01, 8.758e-02],\n",
       "       [1.142e+01, 2.038e+01, 7.758e+01, 3.861e+02, 1.425e-01, 2.839e-01,\n",
       "        2.414e-01, 1.052e-01, 2.597e-01, 9.744e-02, 4.956e-01, 1.156e+00,\n",
       "        3.445e+00, 2.723e+01, 9.110e-03, 7.458e-02, 5.661e-02, 1.867e-02,\n",
       "        5.963e-02, 9.208e-03, 1.491e+01, 2.650e+01, 9.887e+01, 5.677e+02,\n",
       "        2.098e-01, 8.663e-01, 6.869e-01, 2.575e-01, 6.638e-01, 1.730e-01],\n",
       "       [2.029e+01, 1.434e+01, 1.351e+02, 1.297e+03, 1.003e-01, 1.328e-01,\n",
       "        1.980e-01, 1.043e-01, 1.809e-01, 5.883e-02, 7.572e-01, 7.813e-01,\n",
       "        5.438e+00, 9.444e+01, 1.149e-02, 2.461e-02, 5.688e-02, 1.885e-02,\n",
       "        1.756e-02, 5.115e-03, 2.254e+01, 1.667e+01, 1.522e+02, 1.575e+03,\n",
       "        1.374e-01, 2.050e-01, 4.000e-01, 1.625e-01, 2.364e-01, 7.678e-02],\n",
       "       [1.245e+01, 1.570e+01, 8.257e+01, 4.771e+02, 1.278e-01, 1.700e-01,\n",
       "        1.578e-01, 8.089e-02, 2.087e-01, 7.613e-02, 3.345e-01, 8.902e-01,\n",
       "        2.217e+00, 2.719e+01, 7.510e-03, 3.345e-02, 3.672e-02, 1.137e-02,\n",
       "        2.165e-02, 5.082e-03, 1.547e+01, 2.375e+01, 1.034e+02, 7.416e+02,\n",
       "        1.791e-01, 5.249e-01, 5.355e-01, 1.741e-01, 3.985e-01, 1.244e-01],\n",
       "       [1.825e+01, 1.998e+01, 1.196e+02, 1.040e+03, 9.463e-02, 1.090e-01,\n",
       "        1.127e-01, 7.400e-02, 1.794e-01, 5.742e-02, 4.467e-01, 7.732e-01,\n",
       "        3.180e+00, 5.391e+01, 4.314e-03, 1.382e-02, 2.254e-02, 1.039e-02,\n",
       "        1.369e-02, 2.179e-03, 2.288e+01, 2.766e+01, 1.532e+02, 1.606e+03,\n",
       "        1.442e-01, 2.576e-01, 3.784e-01, 1.932e-01, 3.063e-01, 8.368e-02],\n",
       "       [1.371e+01, 2.083e+01, 9.020e+01, 5.779e+02, 1.189e-01, 1.645e-01,\n",
       "        9.366e-02, 5.985e-02, 2.196e-01, 7.451e-02, 5.835e-01, 1.377e+00,\n",
       "        3.856e+00, 5.096e+01, 8.805e-03, 3.029e-02, 2.488e-02, 1.448e-02,\n",
       "        1.486e-02, 5.412e-03, 1.706e+01, 2.814e+01, 1.106e+02, 8.970e+02,\n",
       "        1.654e-01, 3.682e-01, 2.678e-01, 1.556e-01, 3.196e-01, 1.151e-01],\n",
       "       [1.300e+01, 2.182e+01, 8.750e+01, 5.198e+02, 1.273e-01, 1.932e-01,\n",
       "        1.859e-01, 9.353e-02, 2.350e-01, 7.389e-02, 3.063e-01, 1.002e+00,\n",
       "        2.406e+00, 2.432e+01, 5.731e-03, 3.502e-02, 3.553e-02, 1.226e-02,\n",
       "        2.143e-02, 3.749e-03, 1.549e+01, 3.073e+01, 1.062e+02, 7.393e+02,\n",
       "        1.703e-01, 5.401e-01, 5.390e-01, 2.060e-01, 4.378e-01, 1.072e-01],\n",
       "       [1.246e+01, 2.404e+01, 8.397e+01, 4.759e+02, 1.186e-01, 2.396e-01,\n",
       "        2.273e-01, 8.543e-02, 2.030e-01, 8.243e-02, 2.976e-01, 1.599e+00,\n",
       "        2.039e+00, 2.394e+01, 7.149e-03, 7.217e-02, 7.743e-02, 1.432e-02,\n",
       "        1.789e-02, 1.008e-02, 1.509e+01, 4.068e+01, 9.765e+01, 7.114e+02,\n",
       "        1.853e-01, 1.058e+00, 1.105e+00, 2.210e-01, 4.366e-01, 2.075e-01]])"
      ]
     },
     "execution_count": 9,
     "metadata": {},
     "output_type": "execute_result"
    }
   ],
   "source": [
    "from sklearn.datasets import load_breast_cancer\n",
    "cancer = load_breast_cancer()\n",
    "# Let's learn a little about the dataset:\n",
    "print(cancer.keys())\n",
    "print(cancer['DESCR'])\n",
    "cancer['data'][1:10]"
   ]
  },
  {
   "cell_type": "markdown",
   "metadata": {},
   "source": [
    "## Selecting hyperparameters using a test-set"
   ]
  },
  {
   "cell_type": "code",
   "execution_count": 10,
   "metadata": {},
   "outputs": [],
   "source": [
    "# Divide the data into training and test\n",
    "X_train, X_test, y_train, y_test = train_test_split(\n",
    "    cancer.data, cancer.target, stratify=cancer.target, random_state=69)"
   ]
  },
  {
   "cell_type": "markdown",
   "metadata": {},
   "source": [
    "We train several k-nearest-neighbor models on the data with various values of k, and plot the train and test accuracies:"
   ]
  },
  {
   "cell_type": "code",
   "execution_count": 11,
   "metadata": {},
   "outputs": [
    {
     "data": {
      "image/png": "[encoded data removed]",
      "text/plain": [
       "<Figure size 640x480 with 1 Axes>"
      ]
     },
     "metadata": {},
     "output_type": "display_data"
    }
   ],
   "source": [
    "from sklearn.neighbors import KNeighborsClassifier\n",
    "\n",
    "training_accuracy = []\n",
    "test_accuracy = []\n",
    "# try n_neighbors from 1 to 20\n",
    "neighbors_settings = range(1, 20)\n",
    "\n",
    "for n_neighbors in neighbors_settings:\n",
    "    # build the model\n",
    "    clf = KNeighborsClassifier(n_neighbors=n_neighbors)\n",
    "    clf.fit(X_train, y_train)\n",
    "    # record training set accuracy\n",
    "    training_accuracy.append(clf.score(X_train, y_train))\n",
    "    # record generalization accuracy\n",
    "    test_accuracy.append(clf.score(X_test, y_test))\n",
    "    \n",
    "plt.plot(neighbors_settings, training_accuracy, label=\"training accuracy\")\n",
    "plt.plot(neighbors_settings, test_accuracy, label=\"test accuracy\")\n",
    "plt.ylabel(\"Accuracy\")\n",
    "plt.xlabel(\"n_neighbors\")\n",
    "plt.legend();"
   ]
  },
  {
   "cell_type": "markdown",
   "metadata": {},
   "source": [
    "The graph shows that we achieve a good trade-off between high accuracy and low overfitting around n_neighbors = 11 or 12, so this is probably one of these values we should use for our final model! "
   ]
  },
  {
   "cell_type": "markdown",
   "metadata": {},
   "source": [
    "## Selecting hyperparameters using a validation set"
   ]
  },
  {
   "cell_type": "code",
   "execution_count": 12,
   "metadata": {},
   "outputs": [],
   "source": [
    "from sklearn.neighbors import KNeighborsClassifier\n",
    "from sklearn.datasets import load_breast_cancer"
   ]
  },
  {
   "cell_type": "markdown",
   "metadata": {},
   "source": [
    "Divide the data into training data, validation data, and test data"
   ]
  },
  {
   "cell_type": "code",
   "execution_count": 13,
   "metadata": {},
   "outputs": [
    {
     "name": "stdout",
     "output_type": "stream",
     "text": [
      "Size of training set:319\n",
      "Size of validation set:107\n",
      "Size of test set:143\n"
     ]
    }
   ],
   "source": [
    "cancer = load_breast_cancer()\n",
    "X_trainval, X_test, y_trainval, y_test = train_test_split(cancer.data, cancer.target, random_state=69)\n",
    "X_train, X_val, y_train, y_val = train_test_split(X_trainval, y_trainval, random_state=69)\n",
    "print(\"Size of training set:{}\".format(X_train.shape[0]))\n",
    "print(\"Size of validation set:{}\".format(X_val.shape[0]))\n",
    "print(\"Size of test set:{}\".format(X_test.shape[0]))"
   ]
  },
  {
   "cell_type": "markdown",
   "metadata": {},
   "source": [
    "Find the best number of neighbors using the validation set"
   ]
  },
  {
   "cell_type": "code",
   "execution_count": 14,
   "metadata": {},
   "outputs": [
    {
     "name": "stdout",
     "output_type": "stream",
     "text": [
      "Best number of neighbors found: 1\n",
      "Best score on validation set: 0.9439252336448598\n",
      "Score on training/validation set: 1.0\n",
      "Score on test set: 0.9020979020979021\n"
     ]
    }
   ],
   "source": [
    "best_score = 0\n",
    "for num_neighbors in range(1,15):\n",
    "    # Learn the model with a certain numnber of neighbors\n",
    "    knn = KNeighborsClassifier(n_neighbors=num_neighbors)\n",
    "    knn.fit(X_train, y_train)\n",
    "    \n",
    "    # Evaluate the model\n",
    "    score = knn.score(X_val, y_val)\n",
    "    \n",
    "    # If improvement, store score and parameter\n",
    "    if score>best_score:\n",
    "        best_score = score\n",
    "        best_num_neighbors = num_neighbors\n",
    "\n",
    "# Build a model on the combine training and valiation data\n",
    "knn = KNeighborsClassifier(n_neighbors=best_num_neighbors)\n",
    "knn.fit(X_trainval, y_trainval)\n",
    "\n",
    "print(\"Best number of neighbors found: {}\".format(best_num_neighbors))\n",
    "print(\"Best score on validation set: {}\".format(best_score))\n",
    "print(\"Score on training/validation set: {}\".format(knn.score(X_trainval, y_trainval)))\n",
    "print(\"Score on test set: {}\".format(knn.score(X_test, y_test)))"
   ]
  },
  {
   "cell_type": "markdown",
   "metadata": {},
   "source": [
    "## Selecting hyperparameters using cross validation"
   ]
  },
  {
   "cell_type": "markdown",
   "metadata": {},
   "source": [
    "Divide the data into training data and test data (no validation data!)"
   ]
  },
  {
   "cell_type": "code",
   "execution_count": 15,
   "metadata": {},
   "outputs": [
    {
     "name": "stdout",
     "output_type": "stream",
     "text": [
      "Size of training set:319\n",
      "Size of test set:143\n"
     ]
    }
   ],
   "source": [
    "cancer = load_breast_cancer()\n",
    "X_trainval, X_test, y_trainval, y_test = train_test_split(cancer.data, cancer.target, random_state=69)\n",
    "print(\"Size of training set:{}\".format(X_train.shape[0]))\n",
    "print(\"Size of test set:{}\".format(X_test.shape[0]))"
   ]
  },
  {
   "cell_type": "markdown",
   "metadata": {},
   "source": [
    "Find the best number of neighbors using cross validation"
   ]
  },
  {
   "cell_type": "code",
   "execution_count": 16,
   "metadata": {},
   "outputs": [
    {
     "name": "stdout",
     "output_type": "stream",
     "text": [
      "Best number of neighbors found: 8\n",
      "Best average score: 0.9436662106703146\n",
      "Score on training/validation set: 0.9460093896713615\n",
      "Score on test set: 0.9300699300699301\n"
     ]
    }
   ],
   "source": [
    "from sklearn.model_selection import cross_val_score\n",
    "best_score = 0\n",
    "for num_neighbors in range(1,15):\n",
    "    # Set a certain number of neighbors\n",
    "    knn = KNeighborsClassifier(n_neighbors=num_neighbors)\n",
    "    \n",
    "    # Perform cross validation\n",
    "    scores = cross_val_score(knn, X_trainval, y_trainval, cv=5)\n",
    "    \n",
    "    # Compute the mean score\n",
    "    score = scores.mean()\n",
    "    \n",
    "    # If improvement, store score and parameter\n",
    "    if score>best_score:\n",
    "        best_score = score\n",
    "        best_num_neighbors = num_neighbors\n",
    "\n",
    "# Build a model on the combine training and valiation data\n",
    "knn = KNeighborsClassifier(n_neighbors=best_num_neighbors)\n",
    "knn.fit(X_trainval, y_trainval)\n",
    "\n",
    "print(\"Best number of neighbors found: {}\".format(best_num_neighbors))\n",
    "print(\"Best average score: {}\".format(best_score))\n",
    "print(\"Score on training/validation set: {}\".format(knn.score(X_trainval, y_trainval)))\n",
    "print(\"Score on test set: {}\".format(knn.score(X_test, y_test)))"
   ]
  },
  {
   "cell_type": "markdown",
   "metadata": {},
   "source": [
    "### Leave one out cross validation\n",
    "\n",
    "Leave one out cross validation is a special type of cross validation, where each fold is a single sample\n",
    "* Can provides better estimates on smaller datasets, but is more time.consuming"
   ]
  },
  {
   "cell_type": "code",
   "execution_count": 32,
   "metadata": {},
   "outputs": [],
   "source": [
    "from sklearn.model_selection import LeaveOneOut\n",
    "loo = LeaveOneOut()"
   ]
  },
  {
   "cell_type": "code",
   "execution_count": 33,
   "metadata": {},
   "outputs": [],
   "source": [
    "clf = KNeighborsClassifier()\n",
    "scores = cross_val_score(clf, cancer.data, cancer.target, cv=loo)"
   ]
  },
  {
   "cell_type": "code",
   "execution_count": 34,
   "metadata": {},
   "outputs": [
    {
     "name": "stdout",
     "output_type": "stream",
     "text": [
      "Cross validation scores: [1. 1. 1. 0. 1. 1. 1. 1. 1. 1. 1. 1. 1. 0. 0. 1. 1. 1. 1. 1. 1. 1. 1. 1.\n",
      " 1. 1. 0. 1. 1. 1. 1. 1. 1. 1. 1. 1. 1. 1. 0. 0. 1. 0. 1. 1. 1. 1. 1. 1.\n",
      " 1. 1. 1. 1. 1. 1. 1. 1. 1. 1. 1. 1. 1. 1. 1. 1. 1. 1. 1. 1. 1. 1. 1. 1.\n",
      " 1. 1. 1. 1. 1. 1. 1. 1. 1. 1. 1. 1. 1. 1. 0. 1. 1. 1. 1. 0. 0. 1. 1. 1.\n",
      " 1. 1. 1. 0. 1. 1. 1. 1. 1. 1. 1. 1. 1. 1. 1. 1. 1. 1. 1. 1. 1. 1. 1. 1.\n",
      " 1. 1. 1. 1. 1. 1. 1. 1. 1. 1. 1. 1. 1. 0. 1. 0. 1. 1. 1. 1. 1. 1. 1. 1.\n",
      " 1. 1. 0. 1. 1. 1. 1. 1. 1. 1. 1. 1. 1. 0. 1. 1. 1. 1. 1. 1. 1. 1. 1. 1.\n",
      " 1. 1. 1. 1. 1. 1. 1. 1. 1. 1. 1. 1. 1. 1. 1. 1. 1. 1. 1. 1. 1. 1. 0. 1.\n",
      " 1. 1. 0. 1. 1. 1. 1. 1. 1. 1. 1. 1. 0. 1. 1. 1. 1. 0. 1. 1. 1. 1. 1. 0.\n",
      " 1. 1. 1. 1. 1. 1. 1. 1. 1. 1. 1. 1. 1. 0. 1. 1. 1. 1. 1. 1. 1. 1. 1. 1.\n",
      " 1. 1. 1. 1. 1. 1. 1. 1. 1. 1. 1. 1. 1. 1. 1. 1. 1. 1. 1. 1. 1. 1. 1. 1.\n",
      " 1. 1. 1. 1. 1. 1. 1. 1. 1. 1. 1. 1. 1. 1. 1. 1. 1. 1. 1. 1. 1. 1. 1. 1.\n",
      " 1. 1. 1. 1. 1. 1. 1. 1. 1. 0. 0. 1. 1. 1. 1. 1. 1. 1. 1. 1. 1. 1. 1. 1.\n",
      " 1. 1. 1. 1. 1. 1. 1. 1. 1. 1. 1. 1. 1. 1. 1. 1. 1. 0. 1. 1. 1. 1. 1. 1.\n",
      " 1. 1. 1. 1. 1. 1. 1. 1. 1. 1. 1. 1. 1. 1. 1. 1. 1. 1. 1. 1. 1. 1. 1. 1.\n",
      " 1. 1. 1. 0. 1. 1. 1. 1. 1. 1. 1. 1. 1. 1. 1. 0. 1. 1. 1. 0. 1. 1. 1. 1.\n",
      " 1. 0. 1. 1. 1. 1. 1. 1. 1. 1. 1. 1. 1. 1. 1. 1. 1. 1. 1. 1. 1. 1. 0. 1.\n",
      " 1. 1. 1. 1. 1. 1. 1. 1. 1. 1. 1. 1. 1. 1. 1. 1. 1. 1. 1. 1. 1. 1. 0. 1.\n",
      " 1. 1. 1. 0. 1. 1. 1. 1. 1. 1. 1. 1. 1. 1. 1. 1. 1. 1. 1. 1. 1. 1. 1. 1.\n",
      " 1. 1. 1. 1. 1. 1. 1. 1. 1. 0. 1. 1. 1. 1. 1. 1. 1. 1. 1. 1. 0. 1. 1. 0.\n",
      " 1. 0. 1. 1. 1. 1. 1. 1. 1. 1. 1. 0. 1. 1. 1. 1. 1. 1. 1. 1. 1. 1. 1. 1.\n",
      " 1. 1. 1. 1. 0. 1. 1. 1. 1. 1. 1. 1. 1. 1. 1. 1. 1. 1. 1. 1. 1. 1. 1. 1.\n",
      " 1. 1. 1. 1. 1. 1. 1. 1. 0. 1. 1. 1. 1. 1. 1. 1. 1. 1. 1. 1. 1. 1. 1. 1.\n",
      " 1. 1. 1. 1. 1. 1. 1. 1. 1. 1. 1. 1. 1. 1. 1. 1. 1.]\n"
     ]
    }
   ],
   "source": [
    "print(\"Cross validation scores: {}\".format(scores))"
   ]
  },
  {
   "cell_type": "code",
   "execution_count": 35,
   "metadata": {},
   "outputs": [
    {
     "name": "stdout",
     "output_type": "stream",
     "text": [
      "Average cross validation score: 0.9332161687170475\n"
     ]
    }
   ],
   "source": [
    "print(\"Average cross validation score: {}\".format(scores.mean()))"
   ]
  },
  {
   "cell_type": "code",
   "execution_count": 36,
   "metadata": {},
   "outputs": [
    {
     "name": "stdout",
     "output_type": "stream",
     "text": [
      "Standard deviation of the cross validation scores: 0.24964725346400804\n"
     ]
    }
   ],
   "source": [
    "print(\"Standard deviation of the cross validation scores: {}\".format(scores.std()))"
   ]
  },
  {
   "cell_type": "markdown",
   "metadata": {},
   "source": [
    "Let's find the best value of the k-hyperparameter using leave-one-out cross validation:"
   ]
  },
  {
   "cell_type": "code",
   "execution_count": 37,
   "metadata": {},
   "outputs": [
    {
     "name": "stdout",
     "output_type": "stream",
     "text": [
      "Best number of neighbors found: 8\n",
      "Best average score: 0.9436619718309859\n",
      "Score on training/validation set: 0.9460093896713615\n",
      "Score on test set: 0.972027972027972\n"
     ]
    }
   ],
   "source": [
    "from sklearn.model_selection import cross_val_score\n",
    "from sklearn.model_selection import LeaveOneOut\n",
    "loo = LeaveOneOut()\n",
    "best_score = 0\n",
    "for num_neighbors in range(1,15):\n",
    "    # Set a certain number of neighbors\n",
    "    knn = KNeighborsClassifier(n_neighbors=num_neighbors)\n",
    "    \n",
    "    # Perform leave-one-out cross (\"loo\") validation\n",
    "    scores = cross_val_score(knn, X_trainval, y_trainval, cv=loo) \n",
    "    \n",
    "    # Compute the mean score\n",
    "    score = scores.mean()\n",
    "    \n",
    "    # If improvement, store score and parameter\n",
    "    if score>best_score:\n",
    "        best_score = score\n",
    "        best_num_neighbors = num_neighbors\n",
    "\n",
    "# Build a model on the combine training and valiation data\n",
    "knn = KNeighborsClassifier(n_neighbors=best_num_neighbors)\n",
    "knn.fit(X_trainval, y_trainval)\n",
    "\n",
    "print(\"Best number of neighbors found: {}\".format(best_num_neighbors))\n",
    "print(\"Best average score: {}\".format(best_score))\n",
    "print(\"Score on training/validation set: {}\".format(knn.score(X_trainval, y_trainval)))\n",
    "print(\"Score on test set: {}\".format(knn.score(X_test, y_test)))"
   ]
  },
  {
   "cell_type": "markdown",
   "metadata": {},
   "source": [
    "### sklearn actually has support for hyperparameter search using cross validation:"
   ]
  },
  {
   "cell_type": "code",
   "execution_count": 38,
   "metadata": {},
   "outputs": [],
   "source": [
    "from sklearn.model_selection import GridSearchCV\n",
    "from sklearn.neighbors import KNeighborsClassifier"
   ]
  },
  {
   "cell_type": "code",
   "execution_count": 39,
   "metadata": {},
   "outputs": [],
   "source": [
    "# Fix the parameter space\n",
    "parameters = {'n_neighbors': range(1,15)}\n",
    "grid_search = GridSearchCV(KNeighborsClassifier(), parameters, cv=5, return_train_score=True)"
   ]
  },
  {
   "cell_type": "code",
   "execution_count": 40,
   "metadata": {},
   "outputs": [],
   "source": [
    "# Load the data and divide into train and test\n",
    "cancer = load_breast_cancer()\n",
    "X_train, X_test, y_train, y_test = train_test_split(cancer.data, cancer.target, random_state=42)"
   ]
  },
  {
   "cell_type": "markdown",
   "metadata": {},
   "source": [
    "Perform the search; all results are stored within `grid_search`"
   ]
  },
  {
   "cell_type": "code",
   "execution_count": 41,
   "metadata": {},
   "outputs": [
    {
     "data": {
      "text/html": [
       "<style>#sk-container-id-3 {color: black;background-color: white;}#sk-container-id-3 pre{padding: 0;}#sk-container-id-3 div.sk-toggleable {background-color: white;}#sk-container-id-3 label.sk-toggleable__label {cursor: pointer;display: block;width: 100%;margin-bottom: 0;padding: 0.3em;box-sizing: border-box;text-align: center;}#sk-container-id-3 label.sk-toggleable__label-arrow:before {content: \"▸\";float: left;margin-right: 0.25em;color: #696969;}#sk-container-id-3 label.sk-toggleable__label-arrow:hover:before {color: black;}#sk-container-id-3 div.sk-estimator:hover label.sk-toggleable__label-arrow:before {color: black;}#sk-container-id-3 div.sk-toggleable__content {max-height: 0;max-width: 0;overflow: hidden;text-align: left;background-color: #f0f8ff;}#sk-container-id-3 div.sk-toggleable__content pre {margin: 0.2em;color: black;border-radius: 0.25em;background-color: #f0f8ff;}#sk-container-id-3 input.sk-toggleable__control:checked~div.sk-toggleable__content {max-height: 200px;max-width: 100%;overflow: auto;}#sk-container-id-3 input.sk-toggleable__control:checked~label.sk-toggleable__label-arrow:before {content: \"▾\";}#sk-container-id-3 div.sk-estimator input.sk-toggleable__control:checked~label.sk-toggleable__label {background-color: #d4ebff;}#sk-container-id-3 div.sk-label input.sk-toggleable__control:checked~label.sk-toggleable__label {background-color: #d4ebff;}#sk-container-id-3 input.sk-hidden--visually {border: 0;clip: rect(1px 1px 1px 1px);clip: rect(1px, 1px, 1px, 1px);height: 1px;margin: -1px;overflow: hidden;padding: 0;position: absolute;width: 1px;}#sk-container-id-3 div.sk-estimator {font-family: monospace;background-color: #f0f8ff;border: 1px dotted black;border-radius: 0.25em;box-sizing: border-box;margin-bottom: 0.5em;}#sk-container-id-3 div.sk-estimator:hover {background-color: #d4ebff;}#sk-container-id-3 div.sk-parallel-item::after {content: \"\";width: 100%;border-bottom: 1px solid gray;flex-grow: 1;}#sk-container-id-3 div.sk-label:hover label.sk-toggleable__label {background-color: #d4ebff;}#sk-container-id-3 div.sk-serial::before {content: \"\";position: absolute;border-left: 1px solid gray;box-sizing: border-box;top: 0;bottom: 0;left: 50%;z-index: 0;}#sk-container-id-3 div.sk-serial {display: flex;flex-direction: column;align-items: center;background-color: white;padding-right: 0.2em;padding-left: 0.2em;position: relative;}#sk-container-id-3 div.sk-item {position: relative;z-index: 1;}#sk-container-id-3 div.sk-parallel {display: flex;align-items: stretch;justify-content: center;background-color: white;position: relative;}#sk-container-id-3 div.sk-item::before, #sk-container-id-3 div.sk-parallel-item::before {content: \"\";position: absolute;border-left: 1px solid gray;box-sizing: border-box;top: 0;bottom: 0;left: 50%;z-index: -1;}#sk-container-id-3 div.sk-parallel-item {display: flex;flex-direction: column;z-index: 1;position: relative;background-color: white;}#sk-container-id-3 div.sk-parallel-item:first-child::after {align-self: flex-end;width: 50%;}#sk-container-id-3 div.sk-parallel-item:last-child::after {align-self: flex-start;width: 50%;}#sk-container-id-3 div.sk-parallel-item:only-child::after {width: 0;}#sk-container-id-3 div.sk-dashed-wrapped {border: 1px dashed gray;margin: 0 0.4em 0.5em 0.4em;box-sizing: border-box;padding-bottom: 0.4em;background-color: white;}#sk-container-id-3 div.sk-label label {font-family: monospace;font-weight: bold;display: inline-block;line-height: 1.2em;}#sk-container-id-3 div.sk-label-container {text-align: center;}#sk-container-id-3 div.sk-container {/* jupyter's `normalize.less` sets `[hidden] { display: none; }` but bootstrap.min.css set `[hidden] { display: none !important; }` so we also need the `!important` here to be able to override the default hidden behavior on the sphinx rendered scikit-learn.org. See: https://github.com/scikit-learn/scikit-learn/issues/21755 */display: inline-block !important;position: relative;}#sk-container-id-3 div.sk-text-repr-fallback {display: none;}</style><div id=\"sk-container-id-3\" class=\"sk-top-container\"><div class=\"sk-text-repr-fallback\"><pre>GridSearchCV(cv=5, estimator=KNeighborsClassifier(),\n",
       "             param_grid={&#x27;n_neighbors&#x27;: range(1, 15)}, return_train_score=True)</pre><b>In a Jupyter environment, please rerun this cell to show the HTML representation or trust the notebook. <br />On GitHub, the HTML representation is unable to render, please try loading this page with nbviewer.org.</b></div><div class=\"sk-container\" hidden><div class=\"sk-item sk-dashed-wrapped\"><div class=\"sk-label-container\"><div class=\"sk-label sk-toggleable\"><input class=\"sk-toggleable__control sk-hidden--visually\" id=\"sk-estimator-id-7\" type=\"checkbox\" ><label for=\"sk-estimator-id-7\" class=\"sk-toggleable__label sk-toggleable__label-arrow\">GridSearchCV</label><div class=\"sk-toggleable__content\"><pre>GridSearchCV(cv=5, estimator=KNeighborsClassifier(),\n",
       "             param_grid={&#x27;n_neighbors&#x27;: range(1, 15)}, return_train_score=True)</pre></div></div></div><div class=\"sk-parallel\"><div class=\"sk-parallel-item\"><div class=\"sk-item\"><div class=\"sk-label-container\"><div class=\"sk-label sk-toggleable\"><input class=\"sk-toggleable__control sk-hidden--visually\" id=\"sk-estimator-id-8\" type=\"checkbox\" ><label for=\"sk-estimator-id-8\" class=\"sk-toggleable__label sk-toggleable__label-arrow\">estimator: KNeighborsClassifier</label><div class=\"sk-toggleable__content\"><pre>KNeighborsClassifier()</pre></div></div></div><div class=\"sk-serial\"><div class=\"sk-item\"><div class=\"sk-estimator sk-toggleable\"><input class=\"sk-toggleable__control sk-hidden--visually\" id=\"sk-estimator-id-9\" type=\"checkbox\" ><label for=\"sk-estimator-id-9\" class=\"sk-toggleable__label sk-toggleable__label-arrow\">KNeighborsClassifier</label><div class=\"sk-toggleable__content\"><pre>KNeighborsClassifier()</pre></div></div></div></div></div></div></div></div></div></div>"
      ],
      "text/plain": [
       "GridSearchCV(cv=5, estimator=KNeighborsClassifier(),\n",
       "             param_grid={'n_neighbors': range(1, 15)}, return_train_score=True)"
      ]
     },
     "execution_count": 41,
     "metadata": {},
     "output_type": "execute_result"
    }
   ],
   "source": [
    "grid_search.fit(X_train, y_train)"
   ]
  },
  {
   "cell_type": "markdown",
   "metadata": {},
   "source": [
    "Print some results"
   ]
  },
  {
   "cell_type": "code",
   "execution_count": 42,
   "metadata": {},
   "outputs": [
    {
     "name": "stdout",
     "output_type": "stream",
     "text": [
      "Test score: 0.96\n"
     ]
    }
   ],
   "source": [
    "print(\"Test score: {:.2f}\".format(grid_search.score(X_test, y_test)))"
   ]
  },
  {
   "cell_type": "code",
   "execution_count": 43,
   "metadata": {},
   "outputs": [
    {
     "name": "stdout",
     "output_type": "stream",
     "text": [
      "Best parameter: {'n_neighbors': 8}\n"
     ]
    }
   ],
   "source": [
    "print(\"Best parameter: {}\".format(grid_search.best_params_))"
   ]
  },
  {
   "cell_type": "code",
   "execution_count": 29,
   "metadata": {},
   "outputs": [
    {
     "name": "stdout",
     "output_type": "stream",
     "text": [
      "Best cross-validation score: 0.9294391244870042\n"
     ]
    }
   ],
   "source": [
    "print(\"Best cross-validation score: {}\".format(grid_search.best_score_))"
   ]
  },
  {
   "cell_type": "code",
   "execution_count": 30,
   "metadata": {},
   "outputs": [
    {
     "name": "stdout",
     "output_type": "stream",
     "text": [
      "Best estimator: KNeighborsClassifier(n_neighbors=8)\n"
     ]
    }
   ],
   "source": [
    "print(\"Best estimator: {}\".format(grid_search.best_estimator_))"
   ]
  },
  {
   "cell_type": "code",
   "execution_count": 31,
   "metadata": {},
   "outputs": [
    {
     "data": {
      "text/html": [
       "<div>\n",
       "<style scoped>\n",
       "    .dataframe tbody tr th:only-of-type {\n",
       "        vertical-align: middle;\n",
       "    }\n",
       "\n",
       "    .dataframe tbody tr th {\n",
       "        vertical-align: top;\n",
       "    }\n",
       "\n",
       "    .dataframe thead th {\n",
       "        text-align: right;\n",
       "    }\n",
       "</style>\n",
       "<table border=\"1\" class=\"dataframe\">\n",
       "  <thead>\n",
       "    <tr style=\"text-align: right;\">\n",
       "      <th></th>\n",
       "      <th>mean_fit_time</th>\n",
       "      <th>std_fit_time</th>\n",
       "      <th>mean_score_time</th>\n",
       "      <th>std_score_time</th>\n",
       "      <th>param_n_neighbors</th>\n",
       "      <th>params</th>\n",
       "      <th>split0_test_score</th>\n",
       "      <th>split1_test_score</th>\n",
       "      <th>split2_test_score</th>\n",
       "      <th>split3_test_score</th>\n",
       "      <th>...</th>\n",
       "      <th>mean_test_score</th>\n",
       "      <th>std_test_score</th>\n",
       "      <th>rank_test_score</th>\n",
       "      <th>split0_train_score</th>\n",
       "      <th>split1_train_score</th>\n",
       "      <th>split2_train_score</th>\n",
       "      <th>split3_train_score</th>\n",
       "      <th>split4_train_score</th>\n",
       "      <th>mean_train_score</th>\n",
       "      <th>std_train_score</th>\n",
       "    </tr>\n",
       "  </thead>\n",
       "  <tbody>\n",
       "    <tr>\n",
       "      <th>0</th>\n",
       "      <td>0.000203</td>\n",
       "      <td>0.000405</td>\n",
       "      <td>0.009550</td>\n",
       "      <td>0.000691</td>\n",
       "      <td>1</td>\n",
       "      <td>{'n_neighbors': 1}</td>\n",
       "      <td>0.965116</td>\n",
       "      <td>0.870588</td>\n",
       "      <td>0.905882</td>\n",
       "      <td>0.894118</td>\n",
       "      <td>...</td>\n",
       "      <td>0.905964</td>\n",
       "      <td>0.031721</td>\n",
       "      <td>14</td>\n",
       "      <td>1.000000</td>\n",
       "      <td>1.000000</td>\n",
       "      <td>1.000000</td>\n",
       "      <td>1.000000</td>\n",
       "      <td>1.000000</td>\n",
       "      <td>1.000000</td>\n",
       "      <td>0.000000</td>\n",
       "    </tr>\n",
       "    <tr>\n",
       "      <th>1</th>\n",
       "      <td>0.000400</td>\n",
       "      <td>0.000489</td>\n",
       "      <td>0.008017</td>\n",
       "      <td>0.001194</td>\n",
       "      <td>2</td>\n",
       "      <td>{'n_neighbors': 2}</td>\n",
       "      <td>0.953488</td>\n",
       "      <td>0.905882</td>\n",
       "      <td>0.917647</td>\n",
       "      <td>0.882353</td>\n",
       "      <td>...</td>\n",
       "      <td>0.913051</td>\n",
       "      <td>0.023244</td>\n",
       "      <td>12</td>\n",
       "      <td>0.958824</td>\n",
       "      <td>0.964809</td>\n",
       "      <td>0.967742</td>\n",
       "      <td>0.970674</td>\n",
       "      <td>0.970674</td>\n",
       "      <td>0.966545</td>\n",
       "      <td>0.004431</td>\n",
       "    </tr>\n",
       "    <tr>\n",
       "      <th>2</th>\n",
       "      <td>0.000304</td>\n",
       "      <td>0.000402</td>\n",
       "      <td>0.008502</td>\n",
       "      <td>0.000937</td>\n",
       "      <td>3</td>\n",
       "      <td>{'n_neighbors': 3}</td>\n",
       "      <td>0.953488</td>\n",
       "      <td>0.882353</td>\n",
       "      <td>0.976471</td>\n",
       "      <td>0.882353</td>\n",
       "      <td>...</td>\n",
       "      <td>0.920109</td>\n",
       "      <td>0.038326</td>\n",
       "      <td>6</td>\n",
       "      <td>0.938235</td>\n",
       "      <td>0.956012</td>\n",
       "      <td>0.938416</td>\n",
       "      <td>0.953079</td>\n",
       "      <td>0.944282</td>\n",
       "      <td>0.946005</td>\n",
       "      <td>0.007363</td>\n",
       "    </tr>\n",
       "    <tr>\n",
       "      <th>3</th>\n",
       "      <td>0.000604</td>\n",
       "      <td>0.000493</td>\n",
       "      <td>0.007944</td>\n",
       "      <td>0.000743</td>\n",
       "      <td>4</td>\n",
       "      <td>{'n_neighbors': 4}</td>\n",
       "      <td>0.953488</td>\n",
       "      <td>0.882353</td>\n",
       "      <td>0.952941</td>\n",
       "      <td>0.858824</td>\n",
       "      <td>...</td>\n",
       "      <td>0.910698</td>\n",
       "      <td>0.037771</td>\n",
       "      <td>13</td>\n",
       "      <td>0.929412</td>\n",
       "      <td>0.956012</td>\n",
       "      <td>0.935484</td>\n",
       "      <td>0.938416</td>\n",
       "      <td>0.935484</td>\n",
       "      <td>0.938962</td>\n",
       "      <td>0.009015</td>\n",
       "    </tr>\n",
       "    <tr>\n",
       "      <th>4</th>\n",
       "      <td>0.000603</td>\n",
       "      <td>0.000493</td>\n",
       "      <td>0.007909</td>\n",
       "      <td>0.000239</td>\n",
       "      <td>5</td>\n",
       "      <td>{'n_neighbors': 5}</td>\n",
       "      <td>0.953488</td>\n",
       "      <td>0.870588</td>\n",
       "      <td>0.976471</td>\n",
       "      <td>0.858824</td>\n",
       "      <td>...</td>\n",
       "      <td>0.915404</td>\n",
       "      <td>0.045595</td>\n",
       "      <td>10</td>\n",
       "      <td>0.917647</td>\n",
       "      <td>0.950147</td>\n",
       "      <td>0.929619</td>\n",
       "      <td>0.935484</td>\n",
       "      <td>0.935484</td>\n",
       "      <td>0.933676</td>\n",
       "      <td>0.010500</td>\n",
       "    </tr>\n",
       "    <tr>\n",
       "      <th>5</th>\n",
       "      <td>0.000457</td>\n",
       "      <td>0.000462</td>\n",
       "      <td>0.008460</td>\n",
       "      <td>0.000708</td>\n",
       "      <td>6</td>\n",
       "      <td>{'n_neighbors': 6}</td>\n",
       "      <td>0.965116</td>\n",
       "      <td>0.882353</td>\n",
       "      <td>0.964706</td>\n",
       "      <td>0.882353</td>\n",
       "      <td>...</td>\n",
       "      <td>0.922435</td>\n",
       "      <td>0.036999</td>\n",
       "      <td>4</td>\n",
       "      <td>0.917647</td>\n",
       "      <td>0.944282</td>\n",
       "      <td>0.920821</td>\n",
       "      <td>0.947214</td>\n",
       "      <td>0.938416</td>\n",
       "      <td>0.933676</td>\n",
       "      <td>0.012169</td>\n",
       "    </tr>\n",
       "    <tr>\n",
       "      <th>6</th>\n",
       "      <td>0.000199</td>\n",
       "      <td>0.000399</td>\n",
       "      <td>0.008623</td>\n",
       "      <td>0.000188</td>\n",
       "      <td>7</td>\n",
       "      <td>{'n_neighbors': 7}</td>\n",
       "      <td>0.988372</td>\n",
       "      <td>0.870588</td>\n",
       "      <td>0.964706</td>\n",
       "      <td>0.882353</td>\n",
       "      <td>...</td>\n",
       "      <td>0.924733</td>\n",
       "      <td>0.045663</td>\n",
       "      <td>3</td>\n",
       "      <td>0.920588</td>\n",
       "      <td>0.944282</td>\n",
       "      <td>0.926686</td>\n",
       "      <td>0.941349</td>\n",
       "      <td>0.938416</td>\n",
       "      <td>0.934264</td>\n",
       "      <td>0.009080</td>\n",
       "    </tr>\n",
       "    <tr>\n",
       "      <th>7</th>\n",
       "      <td>0.000000</td>\n",
       "      <td>0.000000</td>\n",
       "      <td>0.008623</td>\n",
       "      <td>0.000783</td>\n",
       "      <td>8</td>\n",
       "      <td>{'n_neighbors': 8}</td>\n",
       "      <td>0.988372</td>\n",
       "      <td>0.870588</td>\n",
       "      <td>0.976471</td>\n",
       "      <td>0.894118</td>\n",
       "      <td>...</td>\n",
       "      <td>0.929439</td>\n",
       "      <td>0.045902</td>\n",
       "      <td>1</td>\n",
       "      <td>0.917647</td>\n",
       "      <td>0.941349</td>\n",
       "      <td>0.923754</td>\n",
       "      <td>0.935484</td>\n",
       "      <td>0.938416</td>\n",
       "      <td>0.931330</td>\n",
       "      <td>0.009083</td>\n",
       "    </tr>\n",
       "    <tr>\n",
       "      <th>8</th>\n",
       "      <td>0.000200</td>\n",
       "      <td>0.000400</td>\n",
       "      <td>0.007827</td>\n",
       "      <td>0.000976</td>\n",
       "      <td>9</td>\n",
       "      <td>{'n_neighbors': 9}</td>\n",
       "      <td>0.988372</td>\n",
       "      <td>0.870588</td>\n",
       "      <td>0.964706</td>\n",
       "      <td>0.894118</td>\n",
       "      <td>...</td>\n",
       "      <td>0.922380</td>\n",
       "      <td>0.045665</td>\n",
       "      <td>5</td>\n",
       "      <td>0.920588</td>\n",
       "      <td>0.938416</td>\n",
       "      <td>0.923754</td>\n",
       "      <td>0.929619</td>\n",
       "      <td>0.932551</td>\n",
       "      <td>0.928986</td>\n",
       "      <td>0.006324</td>\n",
       "    </tr>\n",
       "    <tr>\n",
       "      <th>9</th>\n",
       "      <td>0.000520</td>\n",
       "      <td>0.000466</td>\n",
       "      <td>0.008037</td>\n",
       "      <td>0.000667</td>\n",
       "      <td>10</td>\n",
       "      <td>{'n_neighbors': 10}</td>\n",
       "      <td>0.988372</td>\n",
       "      <td>0.882353</td>\n",
       "      <td>0.964706</td>\n",
       "      <td>0.894118</td>\n",
       "      <td>...</td>\n",
       "      <td>0.927086</td>\n",
       "      <td>0.041734</td>\n",
       "      <td>2</td>\n",
       "      <td>0.920588</td>\n",
       "      <td>0.935484</td>\n",
       "      <td>0.923754</td>\n",
       "      <td>0.932551</td>\n",
       "      <td>0.935484</td>\n",
       "      <td>0.929572</td>\n",
       "      <td>0.006218</td>\n",
       "    </tr>\n",
       "    <tr>\n",
       "      <th>10</th>\n",
       "      <td>0.000200</td>\n",
       "      <td>0.000400</td>\n",
       "      <td>0.008546</td>\n",
       "      <td>0.000864</td>\n",
       "      <td>11</td>\n",
       "      <td>{'n_neighbors': 11}</td>\n",
       "      <td>0.965116</td>\n",
       "      <td>0.882353</td>\n",
       "      <td>0.964706</td>\n",
       "      <td>0.894118</td>\n",
       "      <td>...</td>\n",
       "      <td>0.917729</td>\n",
       "      <td>0.038763</td>\n",
       "      <td>9</td>\n",
       "      <td>0.914706</td>\n",
       "      <td>0.938416</td>\n",
       "      <td>0.923754</td>\n",
       "      <td>0.929619</td>\n",
       "      <td>0.935484</td>\n",
       "      <td>0.928396</td>\n",
       "      <td>0.008498</td>\n",
       "    </tr>\n",
       "    <tr>\n",
       "      <th>11</th>\n",
       "      <td>0.000198</td>\n",
       "      <td>0.000395</td>\n",
       "      <td>0.007852</td>\n",
       "      <td>0.000765</td>\n",
       "      <td>12</td>\n",
       "      <td>{'n_neighbors': 12}</td>\n",
       "      <td>0.976744</td>\n",
       "      <td>0.882353</td>\n",
       "      <td>0.964706</td>\n",
       "      <td>0.894118</td>\n",
       "      <td>...</td>\n",
       "      <td>0.920055</td>\n",
       "      <td>0.041768</td>\n",
       "      <td>7</td>\n",
       "      <td>0.923529</td>\n",
       "      <td>0.941349</td>\n",
       "      <td>0.926686</td>\n",
       "      <td>0.929619</td>\n",
       "      <td>0.938416</td>\n",
       "      <td>0.931920</td>\n",
       "      <td>0.006844</td>\n",
       "    </tr>\n",
       "    <tr>\n",
       "      <th>12</th>\n",
       "      <td>0.000000</td>\n",
       "      <td>0.000000</td>\n",
       "      <td>0.008741</td>\n",
       "      <td>0.000575</td>\n",
       "      <td>13</td>\n",
       "      <td>{'n_neighbors': 13}</td>\n",
       "      <td>0.965116</td>\n",
       "      <td>0.882353</td>\n",
       "      <td>0.964706</td>\n",
       "      <td>0.882353</td>\n",
       "      <td>...</td>\n",
       "      <td>0.915376</td>\n",
       "      <td>0.040445</td>\n",
       "      <td>11</td>\n",
       "      <td>0.905882</td>\n",
       "      <td>0.932551</td>\n",
       "      <td>0.920821</td>\n",
       "      <td>0.926686</td>\n",
       "      <td>0.932551</td>\n",
       "      <td>0.923698</td>\n",
       "      <td>0.009913</td>\n",
       "    </tr>\n",
       "    <tr>\n",
       "      <th>13</th>\n",
       "      <td>0.000910</td>\n",
       "      <td>0.000505</td>\n",
       "      <td>0.008516</td>\n",
       "      <td>0.001023</td>\n",
       "      <td>14</td>\n",
       "      <td>{'n_neighbors': 14}</td>\n",
       "      <td>0.976744</td>\n",
       "      <td>0.882353</td>\n",
       "      <td>0.964706</td>\n",
       "      <td>0.894118</td>\n",
       "      <td>...</td>\n",
       "      <td>0.920055</td>\n",
       "      <td>0.041768</td>\n",
       "      <td>7</td>\n",
       "      <td>0.911765</td>\n",
       "      <td>0.929619</td>\n",
       "      <td>0.920821</td>\n",
       "      <td>0.926686</td>\n",
       "      <td>0.935484</td>\n",
       "      <td>0.924875</td>\n",
       "      <td>0.008083</td>\n",
       "    </tr>\n",
       "  </tbody>\n",
       "</table>\n",
       "<p>14 rows × 21 columns</p>\n",
       "</div>"
      ],
      "text/plain": [
       "    mean_fit_time  std_fit_time  mean_score_time  std_score_time  \\\n",
       "0        0.000203      0.000405         0.009550        0.000691   \n",
       "1        0.000400      0.000489         0.008017        0.001194   \n",
       "2        0.000304      0.000402         0.008502        0.000937   \n",
       "3        0.000604      0.000493         0.007944        0.000743   \n",
       "4        0.000603      0.000493         0.007909        0.000239   \n",
       "5        0.000457      0.000462         0.008460        0.000708   \n",
       "6        0.000199      0.000399         0.008623        0.000188   \n",
       "7        0.000000      0.000000         0.008623        0.000783   \n",
       "8        0.000200      0.000400         0.007827        0.000976   \n",
       "9        0.000520      0.000466         0.008037        0.000667   \n",
       "10       0.000200      0.000400         0.008546        0.000864   \n",
       "11       0.000198      0.000395         0.007852        0.000765   \n",
       "12       0.000000      0.000000         0.008741        0.000575   \n",
       "13       0.000910      0.000505         0.008516        0.001023   \n",
       "\n",
       "   param_n_neighbors               params  split0_test_score  \\\n",
       "0                  1   {'n_neighbors': 1}           0.965116   \n",
       "1                  2   {'n_neighbors': 2}           0.953488   \n",
       "2                  3   {'n_neighbors': 3}           0.953488   \n",
       "3                  4   {'n_neighbors': 4}           0.953488   \n",
       "4                  5   {'n_neighbors': 5}           0.953488   \n",
       "5                  6   {'n_neighbors': 6}           0.965116   \n",
       "6                  7   {'n_neighbors': 7}           0.988372   \n",
       "7                  8   {'n_neighbors': 8}           0.988372   \n",
       "8                  9   {'n_neighbors': 9}           0.988372   \n",
       "9                 10  {'n_neighbors': 10}           0.988372   \n",
       "10                11  {'n_neighbors': 11}           0.965116   \n",
       "11                12  {'n_neighbors': 12}           0.976744   \n",
       "12                13  {'n_neighbors': 13}           0.965116   \n",
       "13                14  {'n_neighbors': 14}           0.976744   \n",
       "\n",
       "    split1_test_score  split2_test_score  split3_test_score  ...  \\\n",
       "0            0.870588           0.905882           0.894118  ...   \n",
       "1            0.905882           0.917647           0.882353  ...   \n",
       "2            0.882353           0.976471           0.882353  ...   \n",
       "3            0.882353           0.952941           0.858824  ...   \n",
       "4            0.870588           0.976471           0.858824  ...   \n",
       "5            0.882353           0.964706           0.882353  ...   \n",
       "6            0.870588           0.964706           0.882353  ...   \n",
       "7            0.870588           0.976471           0.894118  ...   \n",
       "8            0.870588           0.964706           0.894118  ...   \n",
       "9            0.882353           0.964706           0.894118  ...   \n",
       "10           0.882353           0.964706           0.894118  ...   \n",
       "11           0.882353           0.964706           0.894118  ...   \n",
       "12           0.882353           0.964706           0.882353  ...   \n",
       "13           0.882353           0.964706           0.894118  ...   \n",
       "\n",
       "    mean_test_score  std_test_score  rank_test_score  split0_train_score  \\\n",
       "0          0.905964        0.031721               14            1.000000   \n",
       "1          0.913051        0.023244               12            0.958824   \n",
       "2          0.920109        0.038326                6            0.938235   \n",
       "3          0.910698        0.037771               13            0.929412   \n",
       "4          0.915404        0.045595               10            0.917647   \n",
       "5          0.922435        0.036999                4            0.917647   \n",
       "6          0.924733        0.045663                3            0.920588   \n",
       "7          0.929439        0.045902                1            0.917647   \n",
       "8          0.922380        0.045665                5            0.920588   \n",
       "9          0.927086        0.041734                2            0.920588   \n",
       "10         0.917729        0.038763                9            0.914706   \n",
       "11         0.920055        0.041768                7            0.923529   \n",
       "12         0.915376        0.040445               11            0.905882   \n",
       "13         0.920055        0.041768                7            0.911765   \n",
       "\n",
       "    split1_train_score  split2_train_score  split3_train_score  \\\n",
       "0             1.000000            1.000000            1.000000   \n",
       "1             0.964809            0.967742            0.970674   \n",
       "2             0.956012            0.938416            0.953079   \n",
       "3             0.956012            0.935484            0.938416   \n",
       "4             0.950147            0.929619            0.935484   \n",
       "5             0.944282            0.920821            0.947214   \n",
       "6             0.944282            0.926686            0.941349   \n",
       "7             0.941349            0.923754            0.935484   \n",
       "8             0.938416            0.923754            0.929619   \n",
       "9             0.935484            0.923754            0.932551   \n",
       "10            0.938416            0.923754            0.929619   \n",
       "11            0.941349            0.926686            0.929619   \n",
       "12            0.932551            0.920821            0.926686   \n",
       "13            0.929619            0.920821            0.926686   \n",
       "\n",
       "    split4_train_score  mean_train_score  std_train_score  \n",
       "0             1.000000          1.000000         0.000000  \n",
       "1             0.970674          0.966545         0.004431  \n",
       "2             0.944282          0.946005         0.007363  \n",
       "3             0.935484          0.938962         0.009015  \n",
       "4             0.935484          0.933676         0.010500  \n",
       "5             0.938416          0.933676         0.012169  \n",
       "6             0.938416          0.934264         0.009080  \n",
       "7             0.938416          0.931330         0.009083  \n",
       "8             0.932551          0.928986         0.006324  \n",
       "9             0.935484          0.929572         0.006218  \n",
       "10            0.935484          0.928396         0.008498  \n",
       "11            0.938416          0.931920         0.006844  \n",
       "12            0.932551          0.923698         0.009913  \n",
       "13            0.935484          0.924875         0.008083  \n",
       "\n",
       "[14 rows x 21 columns]"
      ]
     },
     "execution_count": 31,
     "metadata": {},
     "output_type": "execute_result"
    }
   ],
   "source": [
    "pd.DataFrame(grid_search.cv_results_)"
   ]
  }
 ],
 "metadata": {
  "kernelspec": {
   "display_name": "Python 3",
   "language": "python",
   "name": "python3"
  },
  "language_info": {
   "codemirror_mode": {
    "name": "ipython",
    "version": 3
   },
   "file_extension": ".py",
   "mimetype": "text/x-python",
   "name": "python",
   "nbconvert_exporter": "python",
   "pygments_lexer": "ipython3",
   "version": "3.11.1"
  }
 },
 "nbformat": 4,
 "nbformat_minor": 2
}
